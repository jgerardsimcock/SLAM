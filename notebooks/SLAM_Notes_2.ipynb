{
 "cells": [
  {
   "cell_type": "markdown",
   "metadata": {},
   "source": [
    "Notes from Lecture 2: Intro to Homogenous Coordinates"
   ]
  },
  {
   "cell_type": "code",
   "execution_count": 1,
   "metadata": {
    "collapsed": false
   },
   "outputs": [
    {
     "data": {
      "image/jpeg": "[encoded data removed]",
      "text/html": [
       "\n",
       "        <iframe\n",
       "            width=\"400\"\n",
       "            height=\"300\"\n",
       "            src=\"https://www.youtube.com/embed/6EJKuq9Vv_w\"\n",
       "            frameborder=\"0\"\n",
       "            allowfullscreen\n",
       "        ></iframe>\n",
       "        "
      ],
      "text/plain": [
       "<IPython.lib.display.YouTubeVideo at 0x104440e48>"
      ]
     },
     "execution_count": 1,
     "metadata": {},
     "output_type": "execute_result"
    }
   ],
   "source": [
    "from IPython.display import YouTubeVideo\n",
    "\n",
    "YouTubeVideo('6EJKuq9Vv_w')"
   ]
  },
  {
   "cell_type": "markdown",
   "metadata": {},
   "source": [
    "Homogenous Coordinates are a way for us to get measurements in a worlds that is not like our cartesian world. Projective Geometry allows us to make measurements of 3D world in a 2D plane. Points at infinity to become finite coordinates. Single matrices can represent affine and projective transformations. "
   ]
  },
  {
   "cell_type": "markdown",
   "metadata": {},
   "source": [
    "So what are Homogenous Coordinates? It almost sounds like an eigenvector. \n",
    "\n",
    "![alt text](../images/images2/homogeneous_coords.png \"homog_coord\")"
   ]
  },
  {
   "cell_type": "markdown",
   "metadata": {},
   "source": [
    "Now we need to be able to map between Euclidean space and our Homogenous coordinates. How do we do this?\n",
    "Well from Euclidean to Homogeneous we simply add another dimension and put a 1 in its place. \n",
    "\n",
    "![alt text](../images/images2/mapping_euc_hom.png \"mapping_euc_hom\")"
   ]
  },
  {
   "cell_type": "markdown",
   "metadata": {},
   "source": [
    "An interesting idea is that you can represent points at infinity?! When we divide our points u and v by 0 we get infinity\n",
    "\n",
    "![alt text](../images/images2/infinite_bearing.png \"infinite_bearing\")"
   ]
  },
  {
   "cell_type": "markdown",
   "metadata": {},
   "source": [
    "Motion in a robot (and anything really) can be expressed as a series of transformations around a set of axis. We can use our transformation matrices to represent motion. This is cool. \n",
    "\n"
   ]
  },
  {
   "cell_type": "markdown",
   "metadata": {},
   "source": [
    "In this example, we want to express a translation. Our translation happens in the vector t:\n",
    "\n",
    "![alt text](../images/images2/translation.png \"translation\")"
   ]
  },
  {
   "cell_type": "markdown",
   "metadata": {},
   "source": [
    "If we want to express rotation around an axis, we can represent M as follows:\n",
    "![alt text](../images/images2/rotation.png \"rotation\")"
   ]
  },
  {
   "cell_type": "markdown",
   "metadata": {},
   "source": [
    "I don't totally recall all the rotation matrices for 2d and 3d space around each axis. This looks familiar. As we can see the pattern looks like it is something analogous to a 2D rotation around each axis:\n",
    "\n",
    "![alt text](../images/images2/rotation_review.png \"rotation_review\")"
   ]
  },
  {
   "cell_type": "markdown",
   "metadata": {},
   "source": [
    "We can also perform transformations such as similiarity transformations that will scale the object making it bigger or smaller. We can also do something called an affine transformation which will warp the shape of the object. \n",
    "\n",
    "![alt text](../images/images2/affine_sim.png \"affine_sim\")"
   ]
  },
  {
   "cell_type": "markdown",
   "metadata": {},
   "source": [
    "For SLAM Problems, we will most often do a rigid body transformation which is a translation and a rotation combined\n",
    "\n",
    "![alt text](../images/images2/rigid_body.png \"rigid_body\")"
   ]
  },
  {
   "cell_type": "markdown",
   "metadata": {},
   "source": [
    "If you execute an action through a transformation matrix, you can undo this action via the inverse of the transformation matrix\n",
    "\n",
    "![alt text](../images/images2/reverse_actions.png \"reverse_actions\")"
   ]
  },
  {
   "cell_type": "markdown",
   "metadata": {},
   "source": [
    "The point of Homogeneous coordinates is to be able to represent motion of objects in 3d world as chain matrices together"
   ]
  }
 ],
 "metadata": {
  "kernelspec": {
   "display_name": "Python 3",
   "language": "python",
   "name": "python3"
  },
  "language_info": {
   "codemirror_mode": {
    "name": "ipython",
    "version": 3
   },
   "file_extension": ".py",
   "mimetype": "text/x-python",
   "name": "python",
   "nbconvert_exporter": "python",
   "pygments_lexer": "ipython3",
   "version": "3.5.1"
  }
 },
 "nbformat": 4,
 "nbformat_minor": 0
}
