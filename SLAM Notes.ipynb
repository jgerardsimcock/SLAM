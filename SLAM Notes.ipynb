{
 "cells": [
  {
   "cell_type": "markdown",
   "metadata": {},
   "source": [
    "Notes from Lecture One: Introduction to Robot Mapping"
   ]
  },
  {
   "cell_type": "code",
   "execution_count": 3,
   "metadata": {
    "collapsed": false,
    "scrolled": false
   },
   "outputs": [
    {
     "data": {
      "image/jpeg": "[encoded data removed]",
      "text/html": [
       "\n",
       "        <iframe\n",
       "            width=\"400\"\n",
       "            height=\"300\"\n",
       "            src=\"https://www.youtube.com/embed/wVsfCnyt5jA\"\n",
       "            frameborder=\"0\"\n",
       "            allowfullscreen\n",
       "        ></iframe>\n",
       "        "
      ],
      "text/plain": [
       "<IPython.lib.display.YouTubeVideo at 0x10433eda0>"
      ]
     },
     "execution_count": 3,
     "metadata": {},
     "output_type": "execute_result"
    }
   ],
   "source": [
    "from IPython.display import YouTubeVideo\n",
    "\n",
    "YouTubeVideo('wVsfCnyt5jA')\n",
    "\n",
    "http://www.ipb.uni-bonn.de/people/cyrill-stachniss/"
   ]
  },
  {
   "cell_type": "markdown",
   "metadata": {},
   "source": [
    "Robot Mapping can be thought of as a problem of localization, state estimation, mapping, navigation, motion planning and simultaneous localization and mapping. \n"
   ]
  },
  {
   "cell_type": "markdown",
   "metadata": {},
   "source": [
    "Localization refers to estimating the robots location\n",
    "\n",
    "Mapping is simply building a map of the environment\n",
    "\n",
    "SLAM is doing both simultaneously"
   ]
  },
  {
   "cell_type": "markdown",
   "metadata": {},
   "source": [
    "We live in an uncertain world. Robots also will occupy this uncertain world. When we are mapping, we'll rely on probability to help us localize the robot.\n",
    "\n",
    "![alt text](images/SLAM_prob.png \"prob\")"
   ]
  },
  {
   "cell_type": "markdown",
   "metadata": {},
   "source": [
    "The slide below does a good job of defining the Full SLAM problem. There is slightly different notation for online SLAM.\n",
    "\n",
    "![alt text](images/SLAM_DEF.png \"Def\")"
   ]
  },
  {
   "cell_type": "markdown",
   "metadata": {},
   "source": [
    "We can think of the SLAM problem as a Probabilistic Graphical Model. If we do this there are two ways to approach the problem. We can do a full SLAM which maps the entire sequence of movements. Or we can do it iteratively, step-by-step. This is referred to as online SLAM. "
   ]
  },
  {
   "cell_type": "markdown",
   "metadata": {},
   "source": [
    "Here is a link to the course outline. I've pulled some of hte slides from the videos as I thought they were good visuals. \n",
    "\n",
    "http://ais.informatik.uni-freiburg.de/teaching/ws13/mapping/"
   ]
  },
  {
   "cell_type": "markdown",
   "metadata": {},
   "source": [
    "Here is a link to Cyril Stachniss' site \n",
    "\n",
    "http://www.ipb.uni-bonn.de/people/cyrill-stachniss/"
   ]
  }
 ],
 "metadata": {
  "kernelspec": {
   "display_name": "Python 3",
   "language": "python",
   "name": "python3"
  },
  "language_info": {
   "codemirror_mode": {
    "name": "ipython",
    "version": 3
   },
   "file_extension": ".py",
   "mimetype": "text/x-python",
   "name": "python",
   "nbconvert_exporter": "python",
   "pygments_lexer": "ipython3",
   "version": "3.5.1"
  }
 },
 "nbformat": 4,
 "nbformat_minor": 0
}
